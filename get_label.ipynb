{
 "cells": [
  {
   "cell_type": "code",
   "execution_count": 1,
   "metadata": {},
   "outputs": [],
   "source": [
    "import sys\n",
    "import json"
   ]
  },
  {
   "cell_type": "code",
   "execution_count": 45,
   "metadata": {
    "scrolled": true
   },
   "outputs": [
    {
     "name": "stdout",
     "output_type": "stream",
     "text": [
      "10440\n",
      "29313\n"
     ]
    }
   ],
   "source": [
    "## 39753  0:29313   1:10440\n",
    "label_list_119 = []\n",
    "with open(\"../VulDeePecker/CWE-119/CGD/cwe119_cgd.txt\", \"r\",encoding=\"UTF-8\") as f:\n",
    "    lines = f.readlines()\n",
    "    flag = False\n",
    "    file_name = \"\"\n",
    "    file_label = \"\"\n",
    "    for line in lines:\n",
    "        if flag == True:\n",
    "            flag = False\n",
    "            file_name = line[line.index(\" \")+1:line.index(\"/\")]\n",
    "        if line == \"1\\n\" or line == \"0\\n\":\n",
    "            file_label = line[:1]\n",
    "            label_list_119.append({file_name: file_label})\n",
    "        if \"---------------------------------\" in line:\n",
    "            flag = True\n"
   ]
  },
  {
   "cell_type": "code",
   "execution_count": 46,
   "metadata": {},
   "outputs": [
    {
     "name": "stdout",
     "output_type": "stream",
     "text": [
      "7285\n",
      "14600\n"
     ]
    }
   ],
   "source": [
    "## 21885  0:14600  1:7285\n",
    "label_list_399 = []\n",
    "with open(\"../VulDeePecker/CWE-399/CGD/cwe399_cgd.txt\", \"r\",encoding=\"UTF-8\") as f:\n",
    "    lines = f.readlines()\n",
    "    flag = False\n",
    "    file_name = \"\"\n",
    "    file_label = \"\"\n",
    "    for line in lines:\n",
    "        if flag == True:\n",
    "            flag = False\n",
    "            file_name = line[line.index(\" \")+1:line.index(\"/\")]\n",
    "        if line == \"1\\n\" or line == \"0\\n\":\n",
    "            file_label = line[:1]\n",
    "            label_list_399.append({file_name: file_label})\n",
    "        if \"---------------------------------\" in line:\n",
    "            flag = True\n",
    "\n",
    "   "
   ]
  },
  {
   "cell_type": "code",
   "execution_count": 47,
   "metadata": {},
   "outputs": [
    {
     "name": "stdout",
     "output_type": "stream",
     "text": [
      "{'CVE-2010-1444': '0'}\n"
     ]
    }
   ],
   "source": [
    "print(label_list_119[0])"
   ]
  },
  {
   "cell_type": "code",
   "execution_count": 50,
   "metadata": {},
   "outputs": [],
   "source": [
    "with open(\"../VulDeePecker/CWE-119/file-label.json\", \"w\") as f:\n",
    "    for item in label_list_119:\n",
    "        f.write(json.dumps(item)+\"\\n\")"
   ]
  },
  {
   "cell_type": "code",
   "execution_count": 51,
   "metadata": {},
   "outputs": [],
   "source": [
    "with open(\"../VulDeePecker/CWE-399/file-label.json\", \"w\") as f:\n",
    "    for item in label_list_399:\n",
    "        f.write(json.dumps(item)+\"\\n\")"
   ]
  },
  {
   "cell_type": "markdown",
   "metadata": {},
   "source": [
    "### assign a label for each file"
   ]
  },
  {
   "cell_type": "code",
   "execution_count": null,
   "metadata": {},
   "outputs": [],
   "source": []
  }
 ],
 "metadata": {
  "kernelspec": {
   "display_name": "Python 3",
   "language": "python",
   "name": "python3"
  },
  "language_info": {
   "codemirror_mode": {
    "name": "ipython",
    "version": 3
   },
   "file_extension": ".py",
   "mimetype": "text/x-python",
   "name": "python",
   "nbconvert_exporter": "python",
   "pygments_lexer": "ipython3",
   "version": "3.7.6"
  }
 },
 "nbformat": 4,
 "nbformat_minor": 4
}
